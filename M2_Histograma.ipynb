{
  "nbformat": 4,
  "nbformat_minor": 0,
  "metadata": {
    "colab": {
      "provenance": [],
      "authorship_tag": "ABX9TyPDq8kx2ePilqSU+6BAnoKR",
      "include_colab_link": true
    },
    "kernelspec": {
      "name": "python3",
      "display_name": "Python 3"
    },
    "language_info": {
      "name": "python"
    }
  },
  "cells": [
    {
      "cell_type": "markdown",
      "metadata": {
        "id": "view-in-github",
        "colab_type": "text"
      },
      "source": [
        "<a href=\"https://colab.research.google.com/github/marcelochavesoficial/Histogram/blob/main/M2_Histograma.ipynb\" target=\"_parent\"><img src=\"https://colab.research.google.com/assets/colab-badge.svg\" alt=\"Open In Colab\"/></a>"
      ]
    },
    {
      "cell_type": "markdown",
      "source": [
        "# **Histogram**\n",
        "\n",
        "The histogram is also known as a frequency distribution graph. Representing these frequencies in bar format, the height of each bar can represent either the amount or frequency that each class of values ​​occurs in the dataset.\n",
        "\n",
        "A histogram of absolute values, has on the y axis the absolute number of occurrences of the values ​​of each class.\n",
        "\n",
        "A histogram of ratio data, known as a unit area histogram, displays the proportion that each class represents in the whole.\n",
        "\n",
        "Histograms provide a lot of information to the data scientist as they visually show the distribution of data relative to a given variable. In addition, it allows obtaining information about its centrality, amplitude and symmetry."
      ],
      "metadata": {
        "id": "8yu_D9LyYQrv"
      }
    },
    {
      "cell_type": "markdown",
      "source": [
        "# **Plot the histogram**\n",
        "\n",
        "To exemplify the line graph, I will use a dataset containing the number of cases (monthly) of dengue for the city of Campinas-São Paulo, Brazil.\n",
        "\n",
        "In addition to the number of confirmed dengue cases, the dataset also shows data related to rainfall, average, minimum and maximum temperatures in the County. The period covered by the data set is from 1998 to 2015."
      ],
      "metadata": {
        "id": "l7_v9w2VZQuH"
      }
    },
    {
      "cell_type": "code",
      "execution_count": 10,
      "metadata": {
        "colab": {
          "base_uri": "https://localhost:8080/",
          "height": 235
        },
        "id": "ooF8J3JfYOdA",
        "outputId": "e897904f-8cd5-4882-8773-94a81646cbfb"
      },
      "outputs": [
        {
          "output_type": "execute_result",
          "data": {
            "text/plain": [
              "            casos-confirmados  chuva  temperatura-media  temperatura-mininima  \\\n",
              "data                                                                            \n",
              "1998-01-01                237  179.2               25.7                  20.2   \n",
              "1998-02-01                331  226.3               25.1                  20.0   \n",
              "1998-03-01                562  149.1               24.8                  22.4   \n",
              "1998-04-01                187   46.4               22.7                  18.1   \n",
              "1998-05-01                 32   88.3               19.2                  15.7   \n",
              "\n",
              "            temperatura-maxima  \n",
              "data                            \n",
              "1998-01-01                28.1  \n",
              "1998-02-01                28.0  \n",
              "1998-03-01                27.2  \n",
              "1998-04-01                26.0  \n",
              "1998-05-01                22.9  "
            ],
            "text/html": [
              "\n",
              "  <div id=\"df-b13bb6e0-0987-4bc9-87ac-7015416105d4\">\n",
              "    <div class=\"colab-df-container\">\n",
              "      <div>\n",
              "<style scoped>\n",
              "    .dataframe tbody tr th:only-of-type {\n",
              "        vertical-align: middle;\n",
              "    }\n",
              "\n",
              "    .dataframe tbody tr th {\n",
              "        vertical-align: top;\n",
              "    }\n",
              "\n",
              "    .dataframe thead th {\n",
              "        text-align: right;\n",
              "    }\n",
              "</style>\n",
              "<table border=\"1\" class=\"dataframe\">\n",
              "  <thead>\n",
              "    <tr style=\"text-align: right;\">\n",
              "      <th></th>\n",
              "      <th>casos-confirmados</th>\n",
              "      <th>chuva</th>\n",
              "      <th>temperatura-media</th>\n",
              "      <th>temperatura-mininima</th>\n",
              "      <th>temperatura-maxima</th>\n",
              "    </tr>\n",
              "    <tr>\n",
              "      <th>data</th>\n",
              "      <th></th>\n",
              "      <th></th>\n",
              "      <th></th>\n",
              "      <th></th>\n",
              "      <th></th>\n",
              "    </tr>\n",
              "  </thead>\n",
              "  <tbody>\n",
              "    <tr>\n",
              "      <th>1998-01-01</th>\n",
              "      <td>237</td>\n",
              "      <td>179.2</td>\n",
              "      <td>25.7</td>\n",
              "      <td>20.2</td>\n",
              "      <td>28.1</td>\n",
              "    </tr>\n",
              "    <tr>\n",
              "      <th>1998-02-01</th>\n",
              "      <td>331</td>\n",
              "      <td>226.3</td>\n",
              "      <td>25.1</td>\n",
              "      <td>20.0</td>\n",
              "      <td>28.0</td>\n",
              "    </tr>\n",
              "    <tr>\n",
              "      <th>1998-03-01</th>\n",
              "      <td>562</td>\n",
              "      <td>149.1</td>\n",
              "      <td>24.8</td>\n",
              "      <td>22.4</td>\n",
              "      <td>27.2</td>\n",
              "    </tr>\n",
              "    <tr>\n",
              "      <th>1998-04-01</th>\n",
              "      <td>187</td>\n",
              "      <td>46.4</td>\n",
              "      <td>22.7</td>\n",
              "      <td>18.1</td>\n",
              "      <td>26.0</td>\n",
              "    </tr>\n",
              "    <tr>\n",
              "      <th>1998-05-01</th>\n",
              "      <td>32</td>\n",
              "      <td>88.3</td>\n",
              "      <td>19.2</td>\n",
              "      <td>15.7</td>\n",
              "      <td>22.9</td>\n",
              "    </tr>\n",
              "  </tbody>\n",
              "</table>\n",
              "</div>\n",
              "      <button class=\"colab-df-convert\" onclick=\"convertToInteractive('df-b13bb6e0-0987-4bc9-87ac-7015416105d4')\"\n",
              "              title=\"Convert this dataframe to an interactive table.\"\n",
              "              style=\"display:none;\">\n",
              "        \n",
              "  <svg xmlns=\"http://www.w3.org/2000/svg\" height=\"24px\"viewBox=\"0 0 24 24\"\n",
              "       width=\"24px\">\n",
              "    <path d=\"M0 0h24v24H0V0z\" fill=\"none\"/>\n",
              "    <path d=\"M18.56 5.44l.94 2.06.94-2.06 2.06-.94-2.06-.94-.94-2.06-.94 2.06-2.06.94zm-11 1L8.5 8.5l.94-2.06 2.06-.94-2.06-.94L8.5 2.5l-.94 2.06-2.06.94zm10 10l.94 2.06.94-2.06 2.06-.94-2.06-.94-.94-2.06-.94 2.06-2.06.94z\"/><path d=\"M17.41 7.96l-1.37-1.37c-.4-.4-.92-.59-1.43-.59-.52 0-1.04.2-1.43.59L10.3 9.45l-7.72 7.72c-.78.78-.78 2.05 0 2.83L4 21.41c.39.39.9.59 1.41.59.51 0 1.02-.2 1.41-.59l7.78-7.78 2.81-2.81c.8-.78.8-2.07 0-2.86zM5.41 20L4 18.59l7.72-7.72 1.47 1.35L5.41 20z\"/>\n",
              "  </svg>\n",
              "      </button>\n",
              "      \n",
              "  <style>\n",
              "    .colab-df-container {\n",
              "      display:flex;\n",
              "      flex-wrap:wrap;\n",
              "      gap: 12px;\n",
              "    }\n",
              "\n",
              "    .colab-df-convert {\n",
              "      background-color: #E8F0FE;\n",
              "      border: none;\n",
              "      border-radius: 50%;\n",
              "      cursor: pointer;\n",
              "      display: none;\n",
              "      fill: #1967D2;\n",
              "      height: 32px;\n",
              "      padding: 0 0 0 0;\n",
              "      width: 32px;\n",
              "    }\n",
              "\n",
              "    .colab-df-convert:hover {\n",
              "      background-color: #E2EBFA;\n",
              "      box-shadow: 0px 1px 2px rgba(60, 64, 67, 0.3), 0px 1px 3px 1px rgba(60, 64, 67, 0.15);\n",
              "      fill: #174EA6;\n",
              "    }\n",
              "\n",
              "    [theme=dark] .colab-df-convert {\n",
              "      background-color: #3B4455;\n",
              "      fill: #D2E3FC;\n",
              "    }\n",
              "\n",
              "    [theme=dark] .colab-df-convert:hover {\n",
              "      background-color: #434B5C;\n",
              "      box-shadow: 0px 1px 3px 1px rgba(0, 0, 0, 0.15);\n",
              "      filter: drop-shadow(0px 1px 2px rgba(0, 0, 0, 0.3));\n",
              "      fill: #FFFFFF;\n",
              "    }\n",
              "  </style>\n",
              "\n",
              "      <script>\n",
              "        const buttonEl =\n",
              "          document.querySelector('#df-b13bb6e0-0987-4bc9-87ac-7015416105d4 button.colab-df-convert');\n",
              "        buttonEl.style.display =\n",
              "          google.colab.kernel.accessAllowed ? 'block' : 'none';\n",
              "\n",
              "        async function convertToInteractive(key) {\n",
              "          const element = document.querySelector('#df-b13bb6e0-0987-4bc9-87ac-7015416105d4');\n",
              "          const dataTable =\n",
              "            await google.colab.kernel.invokeFunction('convertToInteractive',\n",
              "                                                     [key], {});\n",
              "          if (!dataTable) return;\n",
              "\n",
              "          const docLinkHtml = 'Like what you see? Visit the ' +\n",
              "            '<a target=\"_blank\" href=https://colab.research.google.com/notebooks/data_table.ipynb>data table notebook</a>'\n",
              "            + ' to learn more about interactive tables.';\n",
              "          element.innerHTML = '';\n",
              "          dataTable['output_type'] = 'display_data';\n",
              "          await google.colab.output.renderOutput(dataTable, element);\n",
              "          const docLink = document.createElement('div');\n",
              "          docLink.innerHTML = docLinkHtml;\n",
              "          element.appendChild(docLink);\n",
              "        }\n",
              "      </script>\n",
              "    </div>\n",
              "  </div>\n",
              "  "
            ]
          },
          "metadata": {},
          "execution_count": 10
        }
      ],
      "source": [
        "# import libraries\n",
        "import pandas as pd\n",
        "import matplotlib.pyplot as plt\n",
        "\n",
        "# import data to dataframe\n",
        "DATA_PATH = \"https://raw.githubusercontent.com/carlosfab/dsnp2/master/datasets/dengue-dataset.csv\"\n",
        "df = pd.read_csv(DATA_PATH)\n",
        "df.data = pd.to_datetime(df.data)\n",
        "df.set_index('data', inplace=True)\n",
        "\n",
        "# view first 5 entries\n",
        "df.head()"
      ]
    },
    {
      "cell_type": "code",
      "source": [
        "# plot the average temperature histogram\n",
        "fig, ax = plt.subplots()\n",
        "\n",
        "ax.hist('temperatura-media', data=df)\n",
        "ax.set_title(\"Average Temperature Histogram\")\n",
        "ax.set_ylabel(\"Number of occurrences\")\n",
        "ax.set_xlabel(\"Temperature\")\n",
        "\n",
        "plt.tight_layout()"
      ],
      "metadata": {
        "id": "JjPnapj2bNlG",
        "colab": {
          "base_uri": "https://localhost:8080/",
          "height": 297
        },
        "outputId": "302d7c6b-ded5-4688-e1b7-097c43eec4e1"
      },
      "execution_count": 11,
      "outputs": [
        {
          "output_type": "display_data",
          "data": {
            "text/plain": [
              "<Figure size 432x288 with 1 Axes>"
            ],
            "image/png": "[encoded data removed]"
          },
          "metadata": {
            "needs_background": "light"
          }
        }
      ]
    },
    {
      "cell_type": "markdown",
      "source": [
        "The histogram above is plotting the absolute values ​​on the y-axis. To plot in terms of relative frequency, add density=True inside the function."
      ],
      "metadata": {
        "id": "gB6AzAS-eonC"
      }
    },
    {
      "cell_type": "code",
      "source": [
        "# plot the average temperature histogram\n",
        "fig, ax = plt.subplots()\n",
        "\n",
        "ax.hist('temperatura-media', data=df, density=True)\n",
        "ax.set_title(\"Average Temperature Histogram\")\n",
        "ax.set_ylabel(\"Frequency of occurrences\")\n",
        "ax.set_xlabel(\"Temperature\")\n",
        "\n",
        "plt.tight_layout()\n"
      ],
      "metadata": {
        "colab": {
          "base_uri": "https://localhost:8080/",
          "height": 297
        },
        "id": "GiRey5iwdp0M",
        "outputId": "5ca1a23a-3fe0-4d30-9e97-0f332fb86b80"
      },
      "execution_count": 13,
      "outputs": [
        {
          "output_type": "display_data",
          "data": {
            "text/plain": [
              "<Figure size 432x288 with 1 Axes>"
            ],
            "image/png": "[encoded data removed]"
          },
          "metadata": {
            "needs_background": "light"
          }
        }
      ]
    },
    {
      "cell_type": "markdown",
      "source": [
        "The amount of bars is defined by default, but it is not fixed. We were able to change the number of bins by informing the method explicitly."
      ],
      "metadata": {
        "id": "9pAN14R18xLb"
      }
    },
    {
      "cell_type": "code",
      "source": [
        "# plot the average temperature histogram\n",
        "fig, ax = plt.subplots()\n",
        "\n",
        "ax.hist('temperatura-media', data=df, density=True, bins=40)\n",
        "ax.set_title(\"Average Temperature Histogram\")\n",
        "ax.set_ylabel(\"Number of occurrences\")\n",
        "ax.set_xlabel(\"Temperature\")\n",
        "\n",
        "plt.tight_layout()"
      ],
      "metadata": {
        "colab": {
          "base_uri": "https://localhost:8080/",
          "height": 297
        },
        "id": "TCwjp5sH7YIG",
        "outputId": "3e1e4b6d-269d-4002-fb14-6c996b915199"
      },
      "execution_count": 14,
      "outputs": [
        {
          "output_type": "display_data",
          "data": {
            "text/plain": [
              "<Figure size 432x288 with 1 Axes>"
            ],
            "image/png": "[encoded data removed]"
          },
          "metadata": {
            "needs_background": "light"
          }
        }
      ]
    }
  ]
}